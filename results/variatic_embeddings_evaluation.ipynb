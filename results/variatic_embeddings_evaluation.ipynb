{
 "cells": [
  {
   "cell_type": "code",
   "execution_count": null,
   "metadata": {},
   "outputs": [],
   "source": [
    "import pickle\n",
    "import numpy as np\n",
    "from sklearn.neighbors import NearestNeighbors\n",
    "import matplotlib.pyplot as plt"
   ]
  },
  {
   "cell_type": "code",
   "execution_count": null,
   "metadata": {},
   "outputs": [],
   "source": [
    "from matplotlib import rc\n",
    "\n",
    "rc('font',**{'family':'serif','serif':['Palatino']})\n",
    "rc('text', usetex=True)"
   ]
  },
  {
   "cell_type": "markdown",
   "metadata": {},
   "source": [
    "## Read in Embeddings and Word Dictionary"
   ]
  },
  {
   "cell_type": "code",
   "execution_count": null,
   "metadata": {},
   "outputs": [],
   "source": [
    "mus = np.load('/home/jonny/Documents/finalML/saved_checkpoints/test11/mu.npy')\n",
    "sigmas = np.load('/home/jonny/Documents/finalML/saved_checkpoints/test11/sigma.npy')\n",
    "word_dictionary = pickle.load(open('/home/jonny/Documents/finalML/saved_checkpoints/test11/word2id.pkl', 'rb'), encoding='latin1')\n",
    "reversed_word_dictionary = {value: key for key, value in word_dictionary.items()}"
   ]
  },
  {
   "cell_type": "code",
   "execution_count": null,
   "metadata": {},
   "outputs": [],
   "source": [
    "mixtures = pickle.load(open('/home/jonny/Documents/finalML/saved_checkpoints/test11/mixture.pkl', 'rb'), encoding='latin1')"
   ]
  },
  {
   "cell_type": "code",
   "execution_count": null,
   "metadata": {},
   "outputs": [],
   "source": [
    "for x in mixtures:\n",
    "    for i in mixtures[x]: \n",
    "        reversed_word_dictionary[i] = reversed_word_dictionary[x]"
   ]
  },
  {
   "cell_type": "code",
   "execution_count": null,
   "metadata": {
    "scrolled": true
   },
   "outputs": [],
   "source": [
    "print('Shape of mus: {}'.format(mus.shape))\n",
    "print('Shape of sigmas: {}'.format(sigmas.shape))\n",
    "print('Vocabulary size: {}'.format(len(word_dictionary)))"
   ]
  },
  {
   "cell_type": "code",
   "execution_count": null,
   "metadata": {},
   "outputs": [],
   "source": [
    "len(reversed_word_dictionary.keys())"
   ]
  },
  {
   "cell_type": "code",
   "execution_count": null,
   "metadata": {},
   "outputs": [],
   "source": [
    "word_dictionary['star']"
   ]
  },
  {
   "cell_type": "code",
   "execution_count": null,
   "metadata": {},
   "outputs": [],
   "source": [
    "sigmas[592]"
   ]
  },
  {
   "cell_type": "code",
   "execution_count": null,
   "metadata": {},
   "outputs": [],
   "source": [
    "mixtures[801]"
   ]
  },
  {
   "cell_type": "code",
   "execution_count": null,
   "metadata": {},
   "outputs": [],
   "source": [
    "# Sanity check\n",
    "assert not (np.isnan(mus).any() or np.isnan(sigmas).any())"
   ]
  },
  {
   "cell_type": "markdown",
   "metadata": {},
   "source": [
    "## Compare Variance and Variance of Means"
   ]
  },
  {
   "cell_type": "code",
   "execution_count": null,
   "metadata": {},
   "outputs": [],
   "source": [
    "# Covariance of means\n",
    "np.linalg.norm(np.cov(mus.T))"
   ]
  },
  {
   "cell_type": "code",
   "execution_count": null,
   "metadata": {},
   "outputs": [],
   "source": [
    "# Mean of covariances\n",
    "np.linalg.norm(np.mean(sigmas, axis=0))"
   ]
  },
  {
   "cell_type": "code",
   "execution_count": null,
   "metadata": {},
   "outputs": [],
   "source": [
    "np.linalg.norm(np.cov(sigmas.T))"
   ]
  },
  {
   "cell_type": "code",
   "execution_count": null,
   "metadata": {},
   "outputs": [],
   "source": [
    "np.exp(0.0018488717822326764)"
   ]
  },
  {
   "cell_type": "code",
   "execution_count": null,
   "metadata": {},
   "outputs": [],
   "source": [
    "reversed_word_dictionary[np.argmax(sigmas)]\n"
   ]
  },
  {
   "cell_type": "markdown",
   "metadata": {},
   "source": [
    "## kNN Analysis"
   ]
  },
  {
   "cell_type": "code",
   "execution_count": null,
   "metadata": {},
   "outputs": [],
   "source": [
    "knn = NearestNeighbors(n_neighbors=10).fit(mus)"
   ]
  },
  {
   "cell_type": "code",
   "execution_count": null,
   "metadata": {},
   "outputs": [],
   "source": [
    "# Look up word here call it x_not\n",
    "idx = word_dictionary['rock']\n",
    "embedding = mus[580].reshape(1,-1)\n",
    "sigma = sigmas[idx]\n",
    "print(sigma)\n",
    "# print(embedding)\n",
    "distances, indices = knn.kneighbors(embedding)\n",
    "# print(indices)\n",
    "for i in indices.flatten(): \n",
    "    try:\n",
    "        print(reversed_word_dictionary[i])\n",
    "    except:\n",
    "        pass"
   ]
  },
  {
   "cell_type": "code",
   "execution_count": null,
   "metadata": {},
   "outputs": [],
   "source": [
    "def unique(array):\n",
    "    tmp = set()\n",
    "    count = 0\n",
    "    for val in array :\n",
    "          if val in tmp: \n",
    "                pass\n",
    "          else: \n",
    "            count+=1\n",
    "            tmp.add(val)\n",
    "    return count"
   ]
  },
  {
   "cell_type": "code",
   "execution_count": null,
   "metadata": {},
   "outputs": [],
   "source": []
  },
  {
   "cell_type": "code",
   "execution_count": null,
   "metadata": {},
   "outputs": [],
   "source": [
    "words = ['rock', 'bank', 'apple', 'star', 'cell', 'left', 'board', 'record', 'lie', 'chair', 'bar', 'lead']\n",
    "\n",
    "for word in words:\n",
    "    idx = word_dictionary[word]\n",
    "    mixtures_idx = mixtures[idx]\n",
    "    for i in range(2):\n",
    "        indices = knn.kneighbors(mus[mixtures_idx[i]].reshape(1, -1), return_distance=False)\n",
    "        foo = [np.exp(sigmas.flatten(order='F')[j]) for j in indices.flatten()]\n",
    "        bar = [reversed_word_dictionary[j] for j in indices.flatten()]\n",
    "        lst = [x for _, x in sorted(zip(foo[1:], bar[1:]))]\n",
    "        print(bar[0] + '\\t' + ' '.join(lst))"
   ]
  },
  {
   "cell_type": "code",
   "execution_count": null,
   "metadata": {},
   "outputs": [],
   "source": [
    "hist_array = []\n",
    "for a in mixtures: \n",
    "    hist_array.append(unique(mixtures[a]))"
   ]
  },
  {
   "cell_type": "code",
   "execution_count": null,
   "metadata": {},
   "outputs": [],
   "source": [
    "plt.figure(figsize=(6, 4), dpi=300)\n",
    "plt.hist(hist_array, bins=[0,1,2])\n",
    "plt.ylim(0,700000)\n",
    "ax = plt.gca()\n",
    "ax.set_title('Histogram for Number of Learned Representations')\n",
    "ax.set_xlabel('x')\n",
    "h = ax.set_ylabel('Counts')\n",
    "h.set_rotation(0)\n",
    "ax.yaxis.set_label_coords(-0.025, 1.01)\n",
    "ax.spines['right'].set_visible(False)\n",
    "ax.spines['top'].set_visible(False)\n",
    "ax.yaxis.set_ticks_position('left')\n",
    "ax.xaxis.set_ticks_position('bottom')\n",
    "ax.set_xticks([0,1,2])\n",
    "\n",
    "plt.tight_layout()\n",
    "plt.savefig('hist.pdf', bbox_inches='tight')"
   ]
  },
  {
   "cell_type": "code",
   "execution_count": null,
   "metadata": {},
   "outputs": [],
   "source": [
    "plt.hist(hist_array, bins=[0,1,2])"
   ]
  }
 ],
 "metadata": {
  "kernelspec": {
   "display_name": "Python 3",
   "language": "python",
   "name": "python3"
  },
  "language_info": {
   "codemirror_mode": {
    "name": "ipython",
    "version": 3
   },
   "file_extension": ".py",
   "mimetype": "text/x-python",
   "name": "python",
   "nbconvert_exporter": "python",
   "pygments_lexer": "ipython3",
   "version": "3.6.6"
  }
 },
 "nbformat": 4,
 "nbformat_minor": 2
}
