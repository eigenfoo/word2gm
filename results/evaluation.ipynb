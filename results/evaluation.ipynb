{
 "cells": [
  {
   "cell_type": "code",
   "execution_count": 1,
   "metadata": {},
   "outputs": [],
   "source": [
    "import pickle\n",
    "import numpy as np\n",
    "from sklearn.neighbors import NearestNeighbors"
   ]
  },
  {
   "cell_type": "markdown",
   "metadata": {},
   "source": [
    "## Read in Embeddings and Word Dictionary"
   ]
  },
  {
   "cell_type": "code",
   "execution_count": 2,
   "metadata": {},
   "outputs": [],
   "source": [
    "mus = np.load('fifth-pass/mu.npy')\n",
    "logsigmas = np.load('fifth-pass/sigma.npy')\n",
    "word_dictionary = pickle.load(open('fifth-pass/word2id.pkl', 'rb'), encoding='latin1')\n",
    "\n",
    "# Decode from bytes\n",
    "word_dictionary = {key.decode('utf-8'): value for key, value in word_dictionary.items()}\n",
    "reversed_word_dictionary = {value: key for key, value in word_dictionary.items()}"
   ]
  },
  {
   "cell_type": "code",
   "execution_count": 3,
   "metadata": {
    "scrolled": true
   },
   "outputs": [
    {
     "name": "stdout",
     "output_type": "stream",
     "text": [
      "Shape of mus: (71291, 4, 50)\n",
      "Shape of logsigmas: (71291, 4, 1)\n",
      "Vocabulary size: 71291\n"
     ]
    }
   ],
   "source": [
    "print('Shape of mus: {}'.format(mus.shape))\n",
    "print('Shape of logsigmas: {}'.format(logsigmas.shape))\n",
    "print('Vocabulary size: {}'.format(len(word_dictionary)))"
   ]
  },
  {
   "cell_type": "code",
   "execution_count": 4,
   "metadata": {},
   "outputs": [],
   "source": [
    "# Sanity check\n",
    "assert not (np.isnan(mus).any() or np.isnan(logsigmas).any())"
   ]
  },
  {
   "cell_type": "markdown",
   "metadata": {},
   "source": [
    "## Check similarity of words"
   ]
  },
  {
   "cell_type": "code",
   "execution_count": 5,
   "metadata": {},
   "outputs": [],
   "source": [
    "def el_similarity(mu1, mu2, sigma1, sigma2):\n",
    "    foo = np.log((sigma1 + sigma2) ** 50)\n",
    "    bar = 50 * np.log(2*np.pi)\n",
    "    baz = np.sum((mu1 - mu2) ** 2 / (sigma1 + sigma2))\n",
    "    return -0.5 * (foo + bar + baz)"
   ]
  },
  {
   "cell_type": "code",
   "execution_count": 6,
   "metadata": {},
   "outputs": [],
   "source": [
    "word = 'bank'\n",
    "idx = word_dictionary[word]"
   ]
  },
  {
   "cell_type": "code",
   "execution_count": 7,
   "metadata": {},
   "outputs": [
    {
     "data": {
      "text/plain": [
       "array([0.8555219 , 0.8770162 , 0.85493964, 0.80638415], dtype=float32)"
      ]
     },
     "execution_count": 7,
     "metadata": {},
     "output_type": "execute_result"
    }
   ],
   "source": [
    "np.linalg.norm(mus[idx], axis=1)"
   ]
  },
  {
   "cell_type": "code",
   "execution_count": 8,
   "metadata": {
    "scrolled": true
   },
   "outputs": [
    {
     "data": {
      "text/plain": [
       "[(0, 1, 1.0508848),\n",
       " (0, 2, 0.80992067),\n",
       " (1, 2, 0.94959265),\n",
       " (0, 3, 1.1729044),\n",
       " (1, 3, 0.9836421),\n",
       " (2, 3, 1.0825567)]"
      ]
     },
     "execution_count": 8,
     "metadata": {},
     "output_type": "execute_result"
    }
   ],
   "source": [
    "[(i, j, np.linalg.norm(mus[idx][i] - mus[idx][j])) for j in range(4) for i in range(j)]"
   ]
  },
  {
   "cell_type": "code",
   "execution_count": 9,
   "metadata": {},
   "outputs": [],
   "source": [
    "mus_ = mus[idx]\n",
    "sigmas_ = np.exp(logsigmas[idx]).flatten()"
   ]
  },
  {
   "cell_type": "code",
   "execution_count": 10,
   "metadata": {},
   "outputs": [
    {
     "data": {
      "text/plain": [
       "[(0, 1, 5.13389699746493),\n",
       " (0, 2, 7.116908117614983),\n",
       " (1, 2, 6.18103301426391),\n",
       " (0, 3, 3.739083946438754),\n",
       " (1, 3, 5.894169712642487),\n",
       " (2, 3, 4.780821007637385)]"
      ]
     },
     "execution_count": 10,
     "metadata": {},
     "output_type": "execute_result"
    }
   ],
   "source": [
    "[(i, j, el_similarity(mus_[i], mus_[j], sigmas_[i], sigmas_[j])) for j in range(4) for i in range(j)]"
   ]
  },
  {
   "cell_type": "code",
   "execution_count": null,
   "metadata": {},
   "outputs": [],
   "source": []
  },
  {
   "cell_type": "markdown",
   "metadata": {},
   "source": [
    "## kNN Analysis"
   ]
  },
  {
   "cell_type": "code",
   "execution_count": 11,
   "metadata": {},
   "outputs": [],
   "source": [
    "knn0 = NearestNeighbors(n_neighbors=10).fit(mus[:, 0, :])\n",
    "knn1 = NearestNeighbors(n_neighbors=10).fit(mus[:, 1, :])\n",
    "knn2 = NearestNeighbors(n_neighbors=10).fit(mus[:, 2, :])\n",
    "knn3 = NearestNeighbors(n_neighbors=10).fit(mus[:, 3, :])\n",
    "\n",
    "knn = [knn0, knn1, knn2, knn3]"
   ]
  },
  {
   "cell_type": "code",
   "execution_count": 12,
   "metadata": {},
   "outputs": [
    {
     "name": "stdout",
     "output_type": "stream",
     "text": [
      "rock\tsand and igneous pindus by shaped on sands waters\n",
      "rock\tvicious seed or groups rees metal ingres serving castings\n",
      "rock\tartists performers big vocals kid performances dance genre recordings\n",
      "rock\tsound album puppets music hall singing harrison davis jazz\n",
      "bank\tofficial monaco overseen tariffs abbreviated members each epa rt\n",
      "bank\tdismantlement continental peninsula gwangju wwi rebranded macau burma altos\n",
      "bank\tmonetary finance telecommunications investment substantial purchases funds country investments\n",
      "bank\tcambodian landmines control s to banking jamaicans begun declares\n",
      "apple\tsomewhat easily crossover credited qasr metered and remey older\n",
      "apple\thfs unix custom computers hardware microcomputer rom xt platform\n",
      "apple\tanything fol your metasyntactic this almon above actual flash\n",
      "apple\tmac video microsoft ibm sgi windows macromedia feature license\n",
      "star\tlyr dm inside edgeworth conventions series pole spherical sideline\n",
      "star\tgalaxy stars planets maser at galactic knock moon huygens\n",
      "star\tin lucasarts best hoffa character bud famous buck before\n",
      "star\tharrison maule chic starred derrick basketball robinson longtime rick\n",
      "cell\tcells mitochondria protein meiosis mitosis plasma mrna organisms igf\n",
      "cell\toutdoors pacifique kimono bite dinghy until dessert homegrown singapore\n",
      "cell\twalls axons lock easy transmeta with coin row kenneth\n",
      "cell\tlactase induced muscle rapid tubulin autonomic enzymes mycoplasma interferon\n",
      "left\tcdots x n circ a lcm frac phi vec\n",
      "left\tgorbachev a had leadership nevertheless and become demonstrations chernenko\n",
      "left\thanded straight dancers behind fingers hingis trap again wins\n",
      "left\tprecipitated constitute organized too placeholders luddite one instead likely\n"
     ]
    }
   ],
   "source": [
    "words = ['rock', 'bank', 'apple', 'star', 'cell', 'left']\n",
    "\n",
    "for word in words:\n",
    "    idx = word_dictionary[word]\n",
    "    embedding = mus[idx]\n",
    "    for i in range(4):\n",
    "        distances, indices = knn[i].kneighbors(embedding[i].reshape(1, -1))\n",
    "        lst = [reversed_word_dictionary[j] for j in indices.flatten()]\n",
    "        print(lst[0] + '\\t' + ' '.join(lst[1:]))"
   ]
  },
  {
   "cell_type": "code",
   "execution_count": null,
   "metadata": {},
   "outputs": [],
   "source": []
  }
 ],
 "metadata": {
  "kernelspec": {
   "display_name": "Python 3",
   "language": "python",
   "name": "python3"
  },
  "language_info": {
   "codemirror_mode": {
    "name": "ipython",
    "version": 3
   },
   "file_extension": ".py",
   "mimetype": "text/x-python",
   "name": "python",
   "nbconvert_exporter": "python",
   "pygments_lexer": "ipython3",
   "version": "3.6.7"
  }
 },
 "nbformat": 4,
 "nbformat_minor": 2
}
