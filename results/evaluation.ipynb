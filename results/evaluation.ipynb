{
 "cells": [
  {
   "cell_type": "code",
   "execution_count": 1,
   "metadata": {},
   "outputs": [],
   "source": [
    "import pickle\n",
    "import numpy as np\n",
    "from sklearn.neighbors import NearestNeighbors\n",
    "\n",
    "import matplotlib.pyplot as plt\n",
    "import seaborn as sns\n",
    "sns.set_style('whitegrid')"
   ]
  },
  {
   "cell_type": "markdown",
   "metadata": {},
   "source": [
    "## Read in Embeddings and Word Dictionary"
   ]
  },
  {
   "cell_type": "code",
   "execution_count": 2,
   "metadata": {},
   "outputs": [],
   "source": [
    "mus = np.load('final-pass/mu.npy')\n",
    "logsigmas = np.load('final-pass/sigma.npy')\n",
    "word_dictionary = pickle.load(open('final-pass/word2id.pkl', 'rb'), encoding='latin1')\n",
    "\n",
    "# Decode from bytes\n",
    "word_dictionary = {key: value for key, value in word_dictionary.items()}\n",
    "reversed_word_dictionary = {value: key for key, value in word_dictionary.items()}"
   ]
  },
  {
   "cell_type": "code",
   "execution_count": 3,
   "metadata": {
    "scrolled": true
   },
   "outputs": [
    {
     "name": "stdout",
     "output_type": "stream",
     "text": [
      "Shape of mus: (716591, 4, 50)\n",
      "Shape of logsigmas: (716591, 4, 1)\n",
      "Vocabulary size: 716591\n"
     ]
    }
   ],
   "source": [
    "print('Shape of mus: {}'.format(mus.shape))\n",
    "print('Shape of logsigmas: {}'.format(logsigmas.shape))\n",
    "print('Vocabulary size: {}'.format(len(word_dictionary)))"
   ]
  },
  {
   "cell_type": "code",
   "execution_count": 4,
   "metadata": {},
   "outputs": [],
   "source": [
    "# Sanity check\n",
    "assert not (np.isnan(mus).any() or np.isnan(logsigmas).any())"
   ]
  },
  {
   "cell_type": "markdown",
   "metadata": {},
   "source": [
    "## Check similarity of words"
   ]
  },
  {
   "cell_type": "code",
   "execution_count": 5,
   "metadata": {},
   "outputs": [],
   "source": [
    "def el_similarity(mu1, mu2, sigma1, sigma2):\n",
    "    foo = np.log((sigma1 + sigma2) ** 50)\n",
    "    bar = 50 * np.log(2*np.pi)\n",
    "    baz = np.sum((mu1 - mu2) ** 2 / (sigma1 + sigma2))\n",
    "    return -0.5 * (foo + bar + baz)"
   ]
  },
  {
   "cell_type": "code",
   "execution_count": 6,
   "metadata": {},
   "outputs": [],
   "source": [
    "word = 'apple'\n",
    "idx = word_dictionary[word]"
   ]
  },
  {
   "cell_type": "code",
   "execution_count": 7,
   "metadata": {},
   "outputs": [
    {
     "data": {
      "text/plain": [
       "[(0, 1, 8.100415932028433),\n",
       " (0, 2, 6.412691990373865),\n",
       " (1, 2, 11.522438664966643),\n",
       " (0, 3, 5.654944818254499),\n",
       " (1, 3, 3.4584979430150398),\n",
       " (2, 3, 3.556470331985331)]"
      ]
     },
     "execution_count": 7,
     "metadata": {},
     "output_type": "execute_result"
    }
   ],
   "source": [
    "mus_ = mus[idx]\n",
    "sigmas_ = np.exp(logsigmas[idx]).flatten()\n",
    "[(i, j, el_similarity(mus_[i], mus_[j], sigmas_[i], sigmas_[j])) for j in range(4) for i in range(j)]"
   ]
  },
  {
   "cell_type": "code",
   "execution_count": null,
   "metadata": {},
   "outputs": [],
   "source": []
  },
  {
   "cell_type": "code",
   "execution_count": null,
   "metadata": {},
   "outputs": [],
   "source": []
  },
  {
   "cell_type": "code",
   "execution_count": 10,
   "metadata": {},
   "outputs": [],
   "source": [
    "N = 1000\n",
    "mu_rand1 = np.random.uniform(-1, 1, N)\n",
    "mu_rand2 = np.random.uniform(-1, 1, N)\n",
    "sigma_rand1 = 0.05\n",
    "sigma_rand2 = 0.05\n",
    "\n",
    "x = [el_similarity(mu_rand1[i], mu_rand2[j], sigma_rand1, sigma_rand2) for i in range(N) for j in range(N)]"
   ]
  },
  {
   "cell_type": "code",
   "execution_count": 11,
   "metadata": {},
   "outputs": [
    {
     "name": "stderr",
     "output_type": "stream",
     "text": [
      "/Users/george/miniconda3/lib/python3.6/site-packages/matplotlib/axes/_axes.py:6462: UserWarning: The 'normed' kwarg is deprecated, and has been replaced by the 'density' kwarg.\n",
      "  warnings.warn(\"The 'normed' kwarg is deprecated, and has been \"\n"
     ]
    },
    {
     "data": {
      "text/plain": [
       "Text(0.5,1,'Distribution of Similarities')"
      ]
     },
     "execution_count": 11,
     "metadata": {},
     "output_type": "execute_result"
    },
    {
     "data": {
      "image/png": "[encoded data removed]",
      "text/plain": [
       "<Figure size 864x576 with 1 Axes>"
      ]
     },
     "metadata": {},
     "output_type": "display_data"
    }
   ],
   "source": [
    "plt.subplots(figsize=[12, 8])\n",
    "sns.distplot(x)\n",
    "sns.despine()\n",
    "plt.xlabel('Similarity')\n",
    "plt.ylabel('Frequency')\n",
    "plt.title('Distribution of Similarities')"
   ]
  },
  {
   "cell_type": "code",
   "execution_count": null,
   "metadata": {},
   "outputs": [],
   "source": []
  },
  {
   "cell_type": "markdown",
   "metadata": {},
   "source": [
    "## kNN Analysis"
   ]
  },
  {
   "cell_type": "code",
   "execution_count": 8,
   "metadata": {},
   "outputs": [],
   "source": [
    "knn = NearestNeighbors(n_neighbors=10).fit(mus.reshape(-1, 50, order='F'))  # It's important that order='F'!\n",
    "\n",
    "'''\n",
    "knn0 = NearestNeighbors(n_neighbors=10).fit(mus[:, 0, :])\n",
    "knn1 = NearestNeighbors(n_neighbors=10).fit(mus[:, 1, :])\n",
    "knn2 = NearestNeighbors(n_neighbors=10).fit(mus[:, 2, :])\n",
    "knn3 = NearestNeighbors(n_neighbors=10).fit(mus[:, 3, :])\n",
    "knn = [knn0, knn1, knn2, knn3]\n",
    "''';"
   ]
  },
  {
   "cell_type": "code",
   "execution_count": 19,
   "metadata": {
    "scrolled": false
   },
   "outputs": [
    {
     "name": "stdout",
     "output_type": "stream",
     "text": [
      "rock\trocks limestone slope range. rock. caldera mountain petrified summit\n",
      "rock\trocks hard rocky well california up enon known smooth\n",
      "rock\trock bands reggae rock. punk albums. rb pop selftitled\n",
      "rock\trock rock. reggae bands punk albums. thrash bands soul\n",
      "bank\thill edge point stretch northwest east just across side\n",
      "bank\tbank bank. branches central its renaming capital. it renamed\n",
      "bank\tsecurities banks banking assets. investment shareholders asset holding investor\n",
      "bank\tbank bank. banks banking invested branches sterling branch banco\n",
      "apple\tportable macintosh standalone iwork machine. developer run project developers\n",
      "apple\tapple apples iphone xen shipped microsoft package treo os2\n",
      "apple\tapple apples honey peanut apples vanilla onions flavors chips\n",
      "apple\twasnt recalls rockpile decided hecky ebel thornley 0for4 winds\n",
      "star\tenckelman blue time a took one this three femi\n",
      "star\tstar stars. nebula brightest star. galaxy centauri moons stellar\n",
      "star\tstar star. galaxy nebula stars stars. brightest supernova moons\n",
      "star\tstars star. as cameo feature appeared actors golden ace\n",
      "cell\tnonintegrated metaplectic tsander overcomplete structure digram hydrogenase basestars directions\n",
      "cell\tcell cells. cellular ca cells. activated binds mitochondria acetylcholine\n",
      "cell\tinmates disorderly jail arson arrested. prison. murders. disappearance. guilty\n",
      "cell\tcell cells. cells cells. proteins cellular enzyme acetylcholine proteins\n",
      "left\tright left. right. righthand lefthand hand. column face inverted\n",
      "left\tafter when led had soon was time became expelled\n",
      "left\tthen robinson leaving rejoined joined manager after kelly took\n",
      "left\tright arm immediately cut severed afterwards suffered up wounds\n",
      "tank\ttank tanks. tanks tank. tanks armament antitank armoured selfpropelled\n",
      "tank\ttanks tanks. tank ammunition tanks gun light heavy batteries\n",
      "tank\tcofounded current outgrowth vasan athfield 1950s. now primarily robinson\n",
      "tank\tthink completes tanks items. tesseract. synchronized while offs enemies.\n",
      "board\tdirectors. firm fhlbb maytag rubicam huntsmans wright carpenter partnership\n",
      "board\tboard advisory trustees trustee boards trustees. regents ministries. oversight\n",
      "board\tno while into be . with out order up\n",
      "board\tboard directors advisory trustee chairman boards committee. chairman office\n",
      "record\trecord record. alltime alltime scoring consecutive career careerhigh sacks\n",
      "record\ttimes compiled tied 115 one 88 43 history collected\n",
      "record\tlabel demos label. emi rca geffen labels. recordings motown\n",
      "record\trecord record. five career. scoring consecutive first broke alltime\n",
      "lie\twhose algebras topological irreducible semisimple holomorphic let infinitely representation\n",
      "lie\tlie lying stretches lake. village. reaches northern hills. southernmost\n",
      "lie\tdisturbed inept nonexistent rape everville angry contempt gunshots. earlier\n",
      "lie\tlie stretches southernmost lying area level. hilly reaches edge\n",
      "right\tarranged arranging together meet beside to present claudin there\n",
      "right\tright be think matter that. for. have wouldnt it.\n",
      "right\tarm side. left. left cut left head. arm. position.\n",
      "right\tclause rights citizenship principle affirmed veto freedoms laws entitled\n",
      "chair\tbeside door ammiano sit sat lit way present house.\n",
      "chair\tchair professor emeritus institute. institute institute sciences fellow. humanities.\n",
      "chair\tchair advisory cochair trustee vicechair manitoba chaired chaired president.\n",
      "chair\trocking pulling chair. bar hanging ropes door. locking bag\n",
      "bar\tbar bars bar. padded bucket attached pulling frame top.\n",
      "bar\tbar bars bars cafe grill restaurant outside pubs dining\n",
      "bar\tadmitted law judge lawyer. b.a. at clerk dean georgetown\n",
      "bar\tkokhba 3525 counterbarrage events dumnonii vÃ­kar merchants havis fled\n",
      "lead\tnick bring this an which that more and promising\n",
      "lead\tbackup jordan a the fourth sid third billy brian\n",
      "lead\tlead causes indirect critical caused involves affected cause weak\n",
      "lead\tlead inhalation oocytes. residual corrosion accumulation cause insecticide. dehydration\n"
     ]
    }
   ],
   "source": [
    "words = ['rock', 'bank', 'apple', 'star', 'cell', 'left',\n",
    "         'tank', 'board', 'record', 'lie', 'right', 'chair', 'bar', 'lead']\n",
    "\n",
    "for word in words:\n",
    "    idx = word_dictionary[word]\n",
    "    embedding = mus[idx]\n",
    "    for i in range(4):\n",
    "        distances, indices = knn.kneighbors(embedding[i].reshape(1, -1))\n",
    "        lst = [reversed_word_dictionary[j % len(reversed_word_dictionary)] for j in indices.flatten()]\n",
    "        print(lst[0] + '\\t' + ' '.join(lst[1:]))"
   ]
  },
  {
   "cell_type": "markdown",
   "metadata": {},
   "source": [
    "## Hard Decision"
   ]
  },
  {
   "cell_type": "code",
   "execution_count": 20,
   "metadata": {},
   "outputs": [
    {
     "name": "stdout",
     "output_type": "stream",
     "text": [
      "[2. 3.]\n",
      "rock\trocks limestone slope range. rock. caldera mountain petrified summit\n",
      "rock\trocks hard rocky well california up enon known smooth\n",
      "rock\trock bands reggae rock. punk albums. rb pop selftitled\n",
      "rock\trock rock. reggae bands punk albums. thrash bands soul\n",
      "--------------------------------------------------------------------------------\n",
      "[1. 3.]\n",
      "bank\thill edge point stretch northwest east just across side\n",
      "bank\tbank bank. branches central its renaming capital. it renamed\n",
      "bank\tsecurities banks banking assets. investment shareholders asset holding investor\n",
      "bank\tbank bank. banks banking invested branches sterling branch banco\n",
      "--------------------------------------------------------------------------------\n",
      "[1. 2.]\n",
      "apple\tportable macintosh standalone iwork machine. developer run project developers\n",
      "apple\tapple apples iphone xen shipped microsoft package treo os2\n",
      "apple\tapple apples honey peanut apples vanilla onions flavors chips\n",
      "apple\twasnt recalls rockpile decided hecky ebel thornley 0for4 winds\n",
      "--------------------------------------------------------------------------------\n",
      "[1. 2.]\n",
      "star\tenckelman blue time a took one this three femi\n",
      "star\tstar stars. nebula brightest star. galaxy centauri moons stellar\n",
      "star\tstar star. galaxy nebula stars stars. brightest supernova moons\n",
      "star\tstars star. as cameo feature appeared actors golden ace\n",
      "--------------------------------------------------------------------------------\n",
      "[1. 3.]\n",
      "cell\tnonintegrated metaplectic tsander overcomplete structure digram hydrogenase basestars directions\n",
      "cell\tcell cells. cellular ca cells. activated binds mitochondria acetylcholine\n",
      "cell\tinmates disorderly jail arson arrested. prison. murders. disappearance. guilty\n",
      "cell\tcell cells. cells cells. proteins cellular enzyme acetylcholine proteins\n",
      "--------------------------------------------------------------------------------\n",
      "left\tright left. right. righthand lefthand hand. column face inverted\n",
      "left\tafter when led had soon was time became expelled\n",
      "left\tthen robinson leaving rejoined joined manager after kelly took\n",
      "left\tright arm immediately cut severed afterwards suffered up wounds\n",
      "--------------------------------------------------------------------------------\n",
      "[0. 1.]\n",
      "tank\ttank tanks. tanks tank. tanks armament antitank armoured selfpropelled\n",
      "tank\ttanks tanks. tank ammunition tanks gun light heavy batteries\n",
      "tank\tcofounded current outgrowth vasan athfield 1950s. now primarily robinson\n",
      "tank\tthink completes tanks items. tesseract. synchronized while offs enemies.\n",
      "--------------------------------------------------------------------------------\n",
      "[1. 3.]\n",
      "board\tdirectors. firm fhlbb maytag rubicam huntsmans wright carpenter partnership\n",
      "board\tboard advisory trustees trustee boards trustees. regents ministries. oversight\n",
      "board\tno while into be . with out order up\n",
      "board\tboard directors advisory trustee chairman boards committee. chairman office\n",
      "--------------------------------------------------------------------------------\n",
      "[0. 3.]\n",
      "record\trecord record. alltime alltime scoring consecutive career careerhigh sacks\n",
      "record\ttimes compiled tied 115 one 88 43 history collected\n",
      "record\tlabel demos label. emi rca geffen labels. recordings motown\n",
      "record\trecord record. five career. scoring consecutive first broke alltime\n",
      "--------------------------------------------------------------------------------\n",
      "[1. 3.]\n",
      "lie\twhose algebras topological irreducible semisimple holomorphic let infinitely representation\n",
      "lie\tlie lying stretches lake. village. reaches northern hills. southernmost\n",
      "lie\tdisturbed inept nonexistent rape everville angry contempt gunshots. earlier\n",
      "lie\tlie stretches southernmost lying area level. hilly reaches edge\n",
      "--------------------------------------------------------------------------------\n",
      "right\tarranged arranging together meet beside to present claudin there\n",
      "right\tright be think matter that. for. have wouldnt it.\n",
      "right\tarm side. left. left cut left head. arm. position.\n",
      "right\tclause rights citizenship principle affirmed veto freedoms laws entitled\n",
      "--------------------------------------------------------------------------------\n",
      "[1. 2.]\n",
      "chair\tbeside door ammiano sit sat lit way present house.\n",
      "chair\tchair professor emeritus institute. institute institute sciences fellow. humanities.\n",
      "chair\tchair advisory cochair trustee vicechair manitoba chaired chaired president.\n",
      "chair\trocking pulling chair. bar hanging ropes door. locking bag\n",
      "--------------------------------------------------------------------------------\n",
      "[0. 1.]\n",
      "bar\tbar bars bar. padded bucket attached pulling frame top.\n",
      "bar\tbar bars bars cafe grill restaurant outside pubs dining\n",
      "bar\tadmitted law judge lawyer. b.a. at clerk dean georgetown\n",
      "bar\tkokhba 3525 counterbarrage events dumnonii vÃ­kar merchants havis fled\n",
      "--------------------------------------------------------------------------------\n",
      "[2. 3.]\n",
      "lead\tnick bring this an which that more and promising\n",
      "lead\tbackup jordan a the fourth sid third billy brian\n",
      "lead\tlead causes indirect critical caused involves affected cause weak\n",
      "lead\tlead inhalation oocytes. residual corrosion accumulation cause insecticide. dehydration\n",
      "--------------------------------------------------------------------------------\n"
     ]
    }
   ],
   "source": [
    "for word in words:\n",
    "    idx = word_dictionary[word]\n",
    "    embedding = mus[idx]\n",
    "    mus_ = mus[idx]\n",
    "    sigmas_ = np.exp(logsigmas[idx]).flatten()\n",
    "    similarities = [(i, j, el_similarity(mus_[i], mus_[j], sigmas_[i], sigmas_[j]))\n",
    "                    for j in range(4) for i in range(j)]\n",
    "    \n",
    "    asdf = np.array(similarities)\n",
    "\n",
    "    for inds, sim in zip(asdf[:, :2], asdf[:, 2]):\n",
    "        if sim > 9:\n",
    "            print(inds)\n",
    "    \n",
    "    for i in range(4):\n",
    "        distances, indices = knn.kneighbors(embedding[i].reshape(1, -1))\n",
    "        lst = [reversed_word_dictionary[j % len(reversed_word_dictionary)] for j in indices.flatten()]\n",
    "        print(lst[0] + '\\t' + ' '.join(lst[1:]))\n",
    "        \n",
    "    print(80*'-')"
   ]
  },
  {
   "cell_type": "code",
   "execution_count": null,
   "metadata": {},
   "outputs": [],
   "source": []
  }
 ],
 "metadata": {
  "kernelspec": {
   "display_name": "Python 3",
   "language": "python",
   "name": "python3"
  },
  "language_info": {
   "codemirror_mode": {
    "name": "ipython",
    "version": 3
   },
   "file_extension": ".py",
   "mimetype": "text/x-python",
   "name": "python",
   "nbconvert_exporter": "python",
   "pygments_lexer": "ipython3",
   "version": "3.6.7"
  }
 },
 "nbformat": 4,
 "nbformat_minor": 2
}
