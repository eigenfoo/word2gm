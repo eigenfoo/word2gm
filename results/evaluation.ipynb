{
 "cells": [
  {
   "cell_type": "code",
   "execution_count": 1,
   "metadata": {},
   "outputs": [],
   "source": [
    "import pickle\n",
    "import numpy as np\n",
    "from sklearn.neighbors import NearestNeighbors"
   ]
  },
  {
   "cell_type": "markdown",
   "metadata": {},
   "source": [
    "## Read in Embeddings and Word Dictionary"
   ]
  },
  {
   "cell_type": "code",
   "execution_count": 2,
   "metadata": {},
   "outputs": [],
   "source": [
    "mus = np.load('sixth-pass/mu.npy')\n",
    "logsigmas = np.load('sixth-pass/sigma.npy')\n",
    "word_dictionary = pickle.load(open('sixth-pass/word2id.pkl', 'rb'), encoding='latin1')\n",
    "\n",
    "# Decode from bytes\n",
    "word_dictionary = {key.decode('utf-8'): value for key, value in word_dictionary.items()}\n",
    "reversed_word_dictionary = {value: key for key, value in word_dictionary.items()}"
   ]
  },
  {
   "cell_type": "code",
   "execution_count": 3,
   "metadata": {
    "scrolled": true
   },
   "outputs": [
    {
     "name": "stdout",
     "output_type": "stream",
     "text": [
      "Shape of mus: (71291, 4, 50)\n",
      "Shape of logsigmas: (71291, 4, 1)\n",
      "Vocabulary size: 71291\n"
     ]
    }
   ],
   "source": [
    "print('Shape of mus: {}'.format(mus.shape))\n",
    "print('Shape of logsigmas: {}'.format(logsigmas.shape))\n",
    "print('Vocabulary size: {}'.format(len(word_dictionary)))"
   ]
  },
  {
   "cell_type": "code",
   "execution_count": 4,
   "metadata": {},
   "outputs": [
    {
     "data": {
      "text/plain": [
       "0.049712293"
      ]
     },
     "execution_count": 4,
     "metadata": {},
     "output_type": "execute_result"
    }
   ],
   "source": [
    "np.exp(logsigmas).mean()"
   ]
  },
  {
   "cell_type": "code",
   "execution_count": 5,
   "metadata": {},
   "outputs": [],
   "source": [
    "# Sanity check\n",
    "assert not (np.isnan(mus).any() or np.isnan(logsigmas).any())"
   ]
  },
  {
   "cell_type": "markdown",
   "metadata": {},
   "source": [
    "## Check similarity of words"
   ]
  },
  {
   "cell_type": "code",
   "execution_count": 6,
   "metadata": {},
   "outputs": [],
   "source": [
    "def el_similarity(mu1, mu2, sigma1, sigma2):\n",
    "    foo = np.log((sigma1 + sigma2) ** 50)\n",
    "    bar = 50 * np.log(2*np.pi)\n",
    "    baz = np.sum((mu1 - mu2) ** 2 / (sigma1 + sigma2))\n",
    "    return -0.5 * (foo + bar + baz)"
   ]
  },
  {
   "cell_type": "code",
   "execution_count": 7,
   "metadata": {},
   "outputs": [],
   "source": [
    "word = 'bank'\n",
    "idx = word_dictionary[word]"
   ]
  },
  {
   "cell_type": "code",
   "execution_count": 8,
   "metadata": {},
   "outputs": [],
   "source": [
    "mus_ = mus[idx]\n",
    "sigmas_ = np.exp(logsigmas[idx]).flatten()"
   ]
  },
  {
   "cell_type": "code",
   "execution_count": 9,
   "metadata": {
    "scrolled": true
   },
   "outputs": [
    {
     "data": {
      "text/plain": [
       "[(0, 1, 7.060481599650757),\n",
       " (0, 2, 11.232229939534555),\n",
       " (1, 2, 8.329426207521657),\n",
       " (0, 3, 4.416653179179988),\n",
       " (1, 3, 4.852052224665741),\n",
       " (2, 3, 5.542474565920934)]"
      ]
     },
     "execution_count": 9,
     "metadata": {},
     "output_type": "execute_result"
    }
   ],
   "source": [
    "[(i, j, el_similarity(mus_[i], mus_[j], sigmas_[i], sigmas_[j])) for j in range(4) for i in range(j)]"
   ]
  },
  {
   "cell_type": "code",
   "execution_count": null,
   "metadata": {},
   "outputs": [],
   "source": []
  },
  {
   "cell_type": "code",
   "execution_count": null,
   "metadata": {},
   "outputs": [],
   "source": [
    "N = 1000\n",
    "mu_rand1 = np.random.uniform(-1, 1, N)\n",
    "mu_rand2 = np.random.uniform(-1, 1, N)\n",
    "sigma_rand1 = 0.05\n",
    "sigma_rand2 = 0.05\n",
    "\n",
    "x = [el_similarity(mu_rand1[i], mu_rand2[j], sigma_rand1, sigma_rand2) for i in range(N) for j in range(N)]"
   ]
  },
  {
   "cell_type": "code",
   "execution_count": null,
   "metadata": {},
   "outputs": [],
   "source": [
    "np.mean(x)"
   ]
  },
  {
   "cell_type": "code",
   "execution_count": null,
   "metadata": {},
   "outputs": [],
   "source": [
    "np.max(x)"
   ]
  },
  {
   "cell_type": "code",
   "execution_count": null,
   "metadata": {},
   "outputs": [],
   "source": [
    "np.min(x)"
   ]
  },
  {
   "cell_type": "code",
   "execution_count": null,
   "metadata": {},
   "outputs": [],
   "source": []
  },
  {
   "cell_type": "markdown",
   "metadata": {},
   "source": [
    "## kNN Analysis"
   ]
  },
  {
   "cell_type": "code",
   "execution_count": 77,
   "metadata": {},
   "outputs": [],
   "source": [
    "knn = NearestNeighbors(n_neighbors=10).fit(mus.reshape(-1, 50, order='F'))  # It's important that order='F'!\n",
    "\n",
    "'''\n",
    "knn0 = NearestNeighbors(n_neighbors=10).fit(mus[:, 0, :])\n",
    "knn1 = NearestNeighbors(n_neighbors=10).fit(mus[:, 1, :])\n",
    "knn2 = NearestNeighbors(n_neighbors=10).fit(mus[:, 2, :])\n",
    "knn3 = NearestNeighbors(n_neighbors=10).fit(mus[:, 3, :])\n",
    "knn = [knn0, knn1, knn2, knn3]\n",
    "''';"
   ]
  },
  {
   "cell_type": "code",
   "execution_count": 79,
   "metadata": {
    "scrolled": false
   },
   "outputs": [
    {
     "name": "stdout",
     "output_type": "stream",
     "text": [
      "rock\toldies crimson indie dj rap mainstream hardcore disco videos\n",
      "rock\textreme rocks oat rim is moose pulverized protected axillary\n",
      "rock\tdeep rolling indie rock band from churning concert bands\n",
      "rock\tpop beatles blues concert clapton musical jazz funk music\n",
      "bank\tbank hay cairo egyptian thaler finance luxembourg banking fund\n",
      "bank\tjordan gulf disengagement embargo kuwaiti gaza palestinian between capital\n",
      "bank\tbank banking monetary account fund asset iban capital finance\n",
      "bank\tto pay employer supply aid cash remain been all\n",
      "apple\ttree pan stewed crab apples kipper sweet moxie manna\n",
      "apple\tapple desktop macintosh lotus marketed motorola microsoft intel product\n",
      "apple\tmacintosh desktop microcomputer microsoft mac intel os pc desktop\n",
      "apple\tsuit case overturned bail dm heflin judge nne legality\n",
      "star\tlyr fred jolly trailed willie catcher bo man closer\n",
      "star\tdaily big airs crimson looking nightly from friday telecaster\n",
      "star\tseries movie tv jones simpsons lucas trek futurama nausica\n",
      "star\tstars constellation stellar planet sky brightest brighter arcturus galactic\n",
      "cell\tmeiosis proteins mitosis antibodies cells chromosomes inhibition mrna pathway\n",
      "cell\tcell cells intracellular cells cytoplasm membrane membrane chelating signals\n",
      "cell\tcells cell membrane antibodies cells cytoplasm ribosome integrins proteins\n",
      "cell\tvideo shrinking dresser ultimatum compactification surf stan utamaro dedicating\n",
      "left\tbehind pulled back touch hands they hand a with\n",
      "left\tsocialist leadership nationalist radical support with leaders in supported\n",
      "left\tright left f where frac quad cdot equiv z\n",
      "left\tright left right clockwise rotations position corner wing axle\n"
     ]
    }
   ],
   "source": [
    "words = ['rock', 'bank', 'apple', 'star', 'cell', 'left']\n",
    "\n",
    "for word in words:\n",
    "    idx = word_dictionary[word]\n",
    "    embedding = mus[idx]\n",
    "    for i in range(4):\n",
    "        distances, indices = knn.kneighbors(embedding[i].reshape(1, -1))\n",
    "        lst = [reversed_word_dictionary[j % len(reversed_word_dictionary)] for j in indices.flatten()]\n",
    "        print(lst[0] + '\\t' + ' '.join(lst[1:]))"
   ]
  },
  {
   "cell_type": "code",
   "execution_count": null,
   "metadata": {},
   "outputs": [],
   "source": []
  }
 ],
 "metadata": {
  "kernelspec": {
   "display_name": "Python 3",
   "language": "python",
   "name": "python3"
  },
  "language_info": {
   "codemirror_mode": {
    "name": "ipython",
    "version": 3
   },
   "file_extension": ".py",
   "mimetype": "text/x-python",
   "name": "python",
   "nbconvert_exporter": "python",
   "pygments_lexer": "ipython3",
   "version": "3.6.7"
  }
 },
 "nbformat": 4,
 "nbformat_minor": 2
}
